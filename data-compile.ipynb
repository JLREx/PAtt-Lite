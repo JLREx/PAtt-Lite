{
 "cells": [
  {
   "cell_type": "code",
   "execution_count": null,
   "id": "a136c398",
   "metadata": {},
   "outputs": [],
   "source": [
    "import os\n",
    "import cv2\n",
    "import h5py\n",
    "import numpy as np\n",
    "\n",
    "def load_data(\n",
    "    path_prefix,\n",
    "    dataset_name,\n",
    "    splits=['train', 'val', 'test'],\n",
    "):\n",
    "    X, y = {}, {}\n",
    "\n",
    "    IMG_SIZE = 224 if 'RAFDB' in dataset_name else 120\n",
    "    splits = ['train', 'test'] if 'RAFDB' in dataset_name else splits\n",
    "    classNames = ['anger', 'disgust', 'fear', 'happiness', 'neutral', 'sadness', 'surprise'] if 'RAFDB' in dataset_name else ['anger', 'contempt', 'disgust', 'fear', 'happiness', 'neutral', 'sadness', 'surprise']\n",
    "\n",
    "    for split in splits:\n",
    "        PATH = os.path.join(path_prefix, dataset_name, split)\n",
    "        X[split], y[split] = [], []\n",
    "        for classes in os.listdir(PATH):\n",
    "            class_path = os.path.join(PATH, classes)\n",
    "            class_numeric = classNames.index(classes)\n",
    "            for sample in os.listdir(class_path):\n",
    "                sample_path = os.path.join(class_path, sample)\n",
    "                image = cv2.imread(sample_path, cv2.IMREAD_COLOR)\n",
    "                image = cv2.cvtColor(image, cv2.COLOR_BGR2RGB)\n",
    "                image = cv2.resize(image, (IMG_SIZE, IMG_SIZE))\n",
    "                X[split].append(image)\n",
    "                y[split].append(class_numeric)\n",
    "    \n",
    "    # Convert to numpy arrays\n",
    "    for split in splits:\n",
    "        X[split] = np.array(X[split])\n",
    "        y[split] = np.array(y[split])\n",
    "        \n",
    "    return X, y"
   ]
  },
  {
   "cell_type": "code",
   "execution_count": null,
   "id": "0b23d7f4",
   "metadata": {},
   "outputs": [],
   "source": [
    "X, y = load_data('', dataset_name='FERP')\n",
    "\n",
    "with h5py.File('ferp.h5', 'w') as dataset: \n",
    "    for split in X.keys():\n",
    "        dataset.create_dataset(f'X_{split}', data=X[split])\n",
    "        dataset.create_dataset(f'y_{split}', data=y[split])\n",
    "\n",
    "del X, y"
   ]
  }
 ],
 "metadata": {
  "kernelspec": {
   "display_name": "Python 3 (ipykernel)",
   "language": "python",
   "name": "python3"
  },
  "language_info": {
   "codemirror_mode": {
    "name": "ipython",
    "version": 3
   },
   "file_extension": ".py",
   "mimetype": "text/x-python",
   "name": "python",
   "nbconvert_exporter": "python",
   "pygments_lexer": "ipython3",
   "version": "3.9.13"
  }
 },
 "nbformat": 4,
 "nbformat_minor": 5
}
